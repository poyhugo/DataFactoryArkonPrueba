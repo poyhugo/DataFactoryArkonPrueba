{
  "nbformat": 4,
  "nbformat_minor": 0,
  "metadata": {
    "colab": {
      "provenance": []
    },
    "kernelspec": {
      "name": "python3",
      "display_name": "Python 3"
    },
    "language_info": {
      "name": "python"
    }
  },
  "cells": [
    {
      "cell_type": "markdown",
      "source": [
        "## Análisis exploratorio a los datos a ingestar."
      ],
      "metadata": {
        "id": "sXrT-jNFI5qC"
      }
    },
    {
      "cell_type": "code",
      "execution_count": 1,
      "metadata": {
        "id": "E7lq5vgAI1lU"
      },
      "outputs": [],
      "source": [
        "import pandas as pd"
      ]
    },
    {
      "cell_type": "code",
      "source": [
        "data = pd.read_csv('/content/us.csv')"
      ],
      "metadata": {
        "id": "4z_W4pfqJFy3"
      },
      "execution_count": 30,
      "outputs": []
    },
    {
      "cell_type": "markdown",
      "source": [
        "Veamos una instancia de la información."
      ],
      "metadata": {
        "id": "_rqca1sqPu4U"
      }
    },
    {
      "cell_type": "code",
      "source": [
        "data.head()"
      ],
      "metadata": {
        "colab": {
          "base_uri": "https://localhost:8080/",
          "height": 206
        },
        "id": "QnDLCBu8JPs-",
        "outputId": "749c5286-83e4-490d-a7cf-b0a1d2dd510c"
      },
      "execution_count": 3,
      "outputs": [
        {
          "output_type": "execute_result",
          "data": {
            "text/plain": [
              "  first_name last_name            company_name               address  \\\n",
              "0      James      Butt       Benton, John B Jr    6649 N Blue Gum St   \n",
              "1  Josephine   Darakjy   Chanay, Jeffrey A Esq   4 B Blue Ridge Blvd   \n",
              "2        Art    Venere     Chemel, James L Cpa  8 W Cerritos Ave #54   \n",
              "3      Lenna  Paprocki  Feltz Printing Service           639 Main St   \n",
              "4    Donette    Foller     Printing Dimensions          34 Center St   \n",
              "\n",
              "          city      county state    zip        phone1        phone2  \\\n",
              "0  New Orleans     Orleans    LA  70116  504-621-8927  504-845-1427   \n",
              "1     Brighton  Livingston    MI  48116  810-292-9388  810-374-9840   \n",
              "2   Bridgeport  Gloucester    NJ   8014  856-636-8749  856-264-4130   \n",
              "3    Anchorage   Anchorage    AK  99501  907-385-4412  907-921-2010   \n",
              "4     Hamilton      Butler    OH  45011  513-570-1893  513-549-4561   \n",
              "\n",
              "                           email                                  web  \n",
              "0                jbutt@gmail.com         http://www.bentonjohnbjr.com  \n",
              "1  josephine_darakjy@darakjy.org     http://www.chanayjeffreyaesq.com  \n",
              "2                 art@venere.org       http://www.chemeljameslcpa.com  \n",
              "3          lpaprocki@hotmail.com  http://www.feltzprintingservice.com  \n",
              "4         donette.foller@cox.net    http://www.printingdimensions.com  "
            ],
            "text/html": [
              "\n",
              "  <div id=\"df-f56f2834-ed5c-4306-b52d-25a1db466b13\">\n",
              "    <div class=\"colab-df-container\">\n",
              "      <div>\n",
              "<style scoped>\n",
              "    .dataframe tbody tr th:only-of-type {\n",
              "        vertical-align: middle;\n",
              "    }\n",
              "\n",
              "    .dataframe tbody tr th {\n",
              "        vertical-align: top;\n",
              "    }\n",
              "\n",
              "    .dataframe thead th {\n",
              "        text-align: right;\n",
              "    }\n",
              "</style>\n",
              "<table border=\"1\" class=\"dataframe\">\n",
              "  <thead>\n",
              "    <tr style=\"text-align: right;\">\n",
              "      <th></th>\n",
              "      <th>first_name</th>\n",
              "      <th>last_name</th>\n",
              "      <th>company_name</th>\n",
              "      <th>address</th>\n",
              "      <th>city</th>\n",
              "      <th>county</th>\n",
              "      <th>state</th>\n",
              "      <th>zip</th>\n",
              "      <th>phone1</th>\n",
              "      <th>phone2</th>\n",
              "      <th>email</th>\n",
              "      <th>web</th>\n",
              "    </tr>\n",
              "  </thead>\n",
              "  <tbody>\n",
              "    <tr>\n",
              "      <th>0</th>\n",
              "      <td>James</td>\n",
              "      <td>Butt</td>\n",
              "      <td>Benton, John B Jr</td>\n",
              "      <td>6649 N Blue Gum St</td>\n",
              "      <td>New Orleans</td>\n",
              "      <td>Orleans</td>\n",
              "      <td>LA</td>\n",
              "      <td>70116</td>\n",
              "      <td>504-621-8927</td>\n",
              "      <td>504-845-1427</td>\n",
              "      <td>jbutt@gmail.com</td>\n",
              "      <td>http://www.bentonjohnbjr.com</td>\n",
              "    </tr>\n",
              "    <tr>\n",
              "      <th>1</th>\n",
              "      <td>Josephine</td>\n",
              "      <td>Darakjy</td>\n",
              "      <td>Chanay, Jeffrey A Esq</td>\n",
              "      <td>4 B Blue Ridge Blvd</td>\n",
              "      <td>Brighton</td>\n",
              "      <td>Livingston</td>\n",
              "      <td>MI</td>\n",
              "      <td>48116</td>\n",
              "      <td>810-292-9388</td>\n",
              "      <td>810-374-9840</td>\n",
              "      <td>josephine_darakjy@darakjy.org</td>\n",
              "      <td>http://www.chanayjeffreyaesq.com</td>\n",
              "    </tr>\n",
              "    <tr>\n",
              "      <th>2</th>\n",
              "      <td>Art</td>\n",
              "      <td>Venere</td>\n",
              "      <td>Chemel, James L Cpa</td>\n",
              "      <td>8 W Cerritos Ave #54</td>\n",
              "      <td>Bridgeport</td>\n",
              "      <td>Gloucester</td>\n",
              "      <td>NJ</td>\n",
              "      <td>8014</td>\n",
              "      <td>856-636-8749</td>\n",
              "      <td>856-264-4130</td>\n",
              "      <td>art@venere.org</td>\n",
              "      <td>http://www.chemeljameslcpa.com</td>\n",
              "    </tr>\n",
              "    <tr>\n",
              "      <th>3</th>\n",
              "      <td>Lenna</td>\n",
              "      <td>Paprocki</td>\n",
              "      <td>Feltz Printing Service</td>\n",
              "      <td>639 Main St</td>\n",
              "      <td>Anchorage</td>\n",
              "      <td>Anchorage</td>\n",
              "      <td>AK</td>\n",
              "      <td>99501</td>\n",
              "      <td>907-385-4412</td>\n",
              "      <td>907-921-2010</td>\n",
              "      <td>lpaprocki@hotmail.com</td>\n",
              "      <td>http://www.feltzprintingservice.com</td>\n",
              "    </tr>\n",
              "    <tr>\n",
              "      <th>4</th>\n",
              "      <td>Donette</td>\n",
              "      <td>Foller</td>\n",
              "      <td>Printing Dimensions</td>\n",
              "      <td>34 Center St</td>\n",
              "      <td>Hamilton</td>\n",
              "      <td>Butler</td>\n",
              "      <td>OH</td>\n",
              "      <td>45011</td>\n",
              "      <td>513-570-1893</td>\n",
              "      <td>513-549-4561</td>\n",
              "      <td>donette.foller@cox.net</td>\n",
              "      <td>http://www.printingdimensions.com</td>\n",
              "    </tr>\n",
              "  </tbody>\n",
              "</table>\n",
              "</div>\n",
              "      <button class=\"colab-df-convert\" onclick=\"convertToInteractive('df-f56f2834-ed5c-4306-b52d-25a1db466b13')\"\n",
              "              title=\"Convert this dataframe to an interactive table.\"\n",
              "              style=\"display:none;\">\n",
              "        \n",
              "  <svg xmlns=\"http://www.w3.org/2000/svg\" height=\"24px\"viewBox=\"0 0 24 24\"\n",
              "       width=\"24px\">\n",
              "    <path d=\"M0 0h24v24H0V0z\" fill=\"none\"/>\n",
              "    <path d=\"M18.56 5.44l.94 2.06.94-2.06 2.06-.94-2.06-.94-.94-2.06-.94 2.06-2.06.94zm-11 1L8.5 8.5l.94-2.06 2.06-.94-2.06-.94L8.5 2.5l-.94 2.06-2.06.94zm10 10l.94 2.06.94-2.06 2.06-.94-2.06-.94-.94-2.06-.94 2.06-2.06.94z\"/><path d=\"M17.41 7.96l-1.37-1.37c-.4-.4-.92-.59-1.43-.59-.52 0-1.04.2-1.43.59L10.3 9.45l-7.72 7.72c-.78.78-.78 2.05 0 2.83L4 21.41c.39.39.9.59 1.41.59.51 0 1.02-.2 1.41-.59l7.78-7.78 2.81-2.81c.8-.78.8-2.07 0-2.86zM5.41 20L4 18.59l7.72-7.72 1.47 1.35L5.41 20z\"/>\n",
              "  </svg>\n",
              "      </button>\n",
              "      \n",
              "  <style>\n",
              "    .colab-df-container {\n",
              "      display:flex;\n",
              "      flex-wrap:wrap;\n",
              "      gap: 12px;\n",
              "    }\n",
              "\n",
              "    .colab-df-convert {\n",
              "      background-color: #E8F0FE;\n",
              "      border: none;\n",
              "      border-radius: 50%;\n",
              "      cursor: pointer;\n",
              "      display: none;\n",
              "      fill: #1967D2;\n",
              "      height: 32px;\n",
              "      padding: 0 0 0 0;\n",
              "      width: 32px;\n",
              "    }\n",
              "\n",
              "    .colab-df-convert:hover {\n",
              "      background-color: #E2EBFA;\n",
              "      box-shadow: 0px 1px 2px rgba(60, 64, 67, 0.3), 0px 1px 3px 1px rgba(60, 64, 67, 0.15);\n",
              "      fill: #174EA6;\n",
              "    }\n",
              "\n",
              "    [theme=dark] .colab-df-convert {\n",
              "      background-color: #3B4455;\n",
              "      fill: #D2E3FC;\n",
              "    }\n",
              "\n",
              "    [theme=dark] .colab-df-convert:hover {\n",
              "      background-color: #434B5C;\n",
              "      box-shadow: 0px 1px 3px 1px rgba(0, 0, 0, 0.15);\n",
              "      filter: drop-shadow(0px 1px 2px rgba(0, 0, 0, 0.3));\n",
              "      fill: #FFFFFF;\n",
              "    }\n",
              "  </style>\n",
              "\n",
              "      <script>\n",
              "        const buttonEl =\n",
              "          document.querySelector('#df-f56f2834-ed5c-4306-b52d-25a1db466b13 button.colab-df-convert');\n",
              "        buttonEl.style.display =\n",
              "          google.colab.kernel.accessAllowed ? 'block' : 'none';\n",
              "\n",
              "        async function convertToInteractive(key) {\n",
              "          const element = document.querySelector('#df-f56f2834-ed5c-4306-b52d-25a1db466b13');\n",
              "          const dataTable =\n",
              "            await google.colab.kernel.invokeFunction('convertToInteractive',\n",
              "                                                     [key], {});\n",
              "          if (!dataTable) return;\n",
              "\n",
              "          const docLinkHtml = 'Like what you see? Visit the ' +\n",
              "            '<a target=\"_blank\" href=https://colab.research.google.com/notebooks/data_table.ipynb>data table notebook</a>'\n",
              "            + ' to learn more about interactive tables.';\n",
              "          element.innerHTML = '';\n",
              "          dataTable['output_type'] = 'display_data';\n",
              "          await google.colab.output.renderOutput(dataTable, element);\n",
              "          const docLink = document.createElement('div');\n",
              "          docLink.innerHTML = docLinkHtml;\n",
              "          element.appendChild(docLink);\n",
              "        }\n",
              "      </script>\n",
              "    </div>\n",
              "  </div>\n",
              "  "
            ]
          },
          "metadata": {},
          "execution_count": 3
        }
      ]
    },
    {
      "cell_type": "markdown",
      "source": [
        "Para poder definir de forma más precisa la longitud del formato lógico de cada campo, obtengamos la longitud máxima de cada columna. Si bien esta información nos dará una idea general de como definir los FL, es probable que en un futuro cercano lleguen datos con mayor longitud, por lo cual se debe de generalizar las longitudes de acuerdo a negocio. En este caso como no se tiene más contexto sobre los datos, se dejará los obtenidos a continuación:"
      ],
      "metadata": {
        "id": "bVskAcroP0L7"
      }
    },
    {
      "cell_type": "code",
      "source": [
        "#Iteramos por cada columna del dataset. Checamos la longitud máxima en bytes de cada campo.\n",
        "for name in data.columns:\n",
        "  len = int(data[str(name)].astype(bytes).str.len().max())\n",
        "  print(name,len)"
      ],
      "metadata": {
        "colab": {
          "base_uri": "https://localhost:8080/"
        },
        "id": "3y8i4g8NREK5",
        "outputId": "dceaf089-4911-4c8b-ffff-b50861674c2f"
      },
      "execution_count": 31,
      "outputs": [
        {
          "output_type": "stream",
          "name": "stdout",
          "text": [
            "first_name 10\n",
            "last_name 13\n",
            "company_name 30\n",
            "address 31\n",
            "city 19\n",
            "county 20\n",
            "state 2\n",
            "zip 5\n",
            "phone1 12\n",
            "phone2 12\n",
            "email 34\n",
            "web 42\n"
          ]
        }
      ]
    }
  ]
}